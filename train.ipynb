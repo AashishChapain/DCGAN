{
 "cells": [
  {
   "cell_type": "code",
   "execution_count": null,
   "metadata": {},
   "outputs": [],
   "source": [
    "import torch\n",
    "from torch import nn\n",
    "from torch import optim\n",
    "import torchvision\n",
    "from torchvision import datasets\n",
    "from torchvision import transforms\n",
    "from torch.utils.data import DataLoader\n",
    "from tqdm import tqdm\n",
    "from models import Discriminator, Generator, initialize_weights\n",
    "\n",
    "device = torch.device(\"cuda\" if torch.cuda.is_available() else \"cpu\")\n",
    "LEARNING_RATE = 2e-4\n",
    "BATCH_SIZE = 128\n",
    "IMAGE_SIZE = 64\n",
    "IMG_CHANNEL = 3\n",
    "Z_DIM = 100\n",
    "NUM_EPOCHS = 5\n",
    "FEATURES_DISC = 64\n",
    "FEATURES_GEN = 64\n",
    "\n",
    "transforms = transforms.Compose(\n",
    "    [\n",
    "        transforms.Resize(IMAGE_SIZE),\n",
    "        transforms.ToTensor(),\n",
    "        transforms.Normalize(\n",
    "            [0.5 for _ in range(IMG_CHANNEL)],\n",
    "            [0.5 for _ in range(IMG_CHANNEL)]\n",
    "        ),\n",
    "    ]\n",
    ")\n",
    "\n",
    "# dataset = datasets.MNIST(root=\"dataset/\", train=True, transform=transforms, download=True)\n",
    "dataset = datasets.ImageFolder(root='celeb_dataset/', transform=transforms)\n",
    "loader = DataLoader(dataset, batch_size=BATCH_SIZE, shuffle=True)\n",
    "gen = Generator(Z_DIM, IMG_CHANNEL, FEATURES_GEN).to(device)\n",
    "disc = Discriminator(IMG_CHANNEL, FEATURES_DISC).to(device)\n",
    "initialize_weights(gen)\n",
    "initialize_weights(disc)\n",
    "\n",
    "opt_gen = optim.Adam(gen.parameters(), lr=LEARNING_RATE, betas=(0.5, 0.999))\n",
    "opt_disc = optim.Adam(disc.parameters(), lr=LEARNING_RATE, betas=(0.5, 0.999))\n",
    "criterion = nn.BCELoss()\n",
    "\n",
    "fixed_noise = torch.randn(32, Z_DIM, 1, 1).to(device)\n",
    "\n",
    "# setting up the training\n",
    "for epoch in tqdm(range(NUM_EPOCHS)):\n",
    "    gen_loss, disc_loss = 0.0, 0.0\n",
    "    for batch_idx, (real, _) in enumerate(loader):\n",
    "        real = real.to(device)\n",
    "        noise = torch.randn(BATCH_SIZE, Z_DIM, 1, 1).to(device)\n",
    "\n",
    "        # train discriminator\n",
    "        fake = gen(noise)\n",
    "        disc_fake = disc(fake.detach()).view(-1)\n",
    "        lossD_f = criterion(disc_fake, torch.zeros_like(disc_fake))\n",
    "        disc_real = disc(real).view(-1)\n",
    "        lossD_r = criterion(disc_real, torch.ones_like(disc_real))\n",
    "        lossD = (lossD_f + lossD_r) / 2\n",
    "        disc_loss += lossD\n",
    "        disc.zero_grad()\n",
    "        lossD.backward()\n",
    "        opt_disc.step()\n",
    "\n",
    "        # train generator\n",
    "        disc_output = disc(fake).view(-1)\n",
    "        lossG = criterion(disc_output, torch.zeros_like(disc_output))\n",
    "        gen_loss += lossG\n",
    "        gen.zero_grad()\n",
    "        lossG.backward()\n",
    "        opt_gen.step()\n",
    "\n",
    "    print(f\"Epoch: {epoch}\\nGenerator Training Loss: {gen_loss:.4f}, Discriminator Training loss: {disc_loss:.4f}\")\n",
    "\n",
    "torch.save(gen.state_dict(), \"saved_models/generator.pth\")\n",
    "torch.save(disc.state_dict(), \"saved_models/discriminator.pth\")\n",
    "\n",
    "\n",
    "\n"
   ]
  },
  {
   "cell_type": "code",
   "execution_count": null,
   "metadata": {},
   "outputs": [],
   "source": [
    "checkpoint = {\n",
    "    'epoch': epoch,\n",
    "    'gen_model': gen.state_dict(),\n",
    "    'disc_model': disc.state_dict(),\n",
    "    'gen_opt': opt_gen.state_dict(),\n",
    "    'disc_opt': opt_disc.state_dict(),\n",
    "    'gen_loss': gen_loss,\n",
    "    'disc_loss': disc_loss,\n",
    "}\n",
    "\n",
    "torch.save(checkpoint, 'model_checkpoint/checkpoint.pth')"
   ]
  },
  {
   "cell_type": "code",
   "execution_count": null,
   "metadata": {},
   "outputs": [],
   "source": [
    "# loading model for further training\n",
    "loaded_checkpoint = torch.load('model_checkpoint/checkpoint.pth')\n",
    "\n",
    "# load models\n",
    "gen.load_state_dict(loaded_checkpoint['gen_model'])\n",
    "disc.load_state_dict(loaded_checkpoint['disc_model'])\n",
    "\n",
    "# load optimizers\n",
    "opt_gen.load_state_dict(loaded_checkpoint['gen_opt'])\n",
    "opt_disc.load_state_dict(loaded_checkpoint['disc_opt'])"
   ]
  },
  {
   "cell_type": "code",
   "execution_count": null,
   "metadata": {},
   "outputs": [],
   "source": [
    "fixed_noise = torch.randn(32, Z_DIM, 1, 1).to(device)"
   ]
  },
  {
   "cell_type": "code",
   "execution_count": null,
   "metadata": {},
   "outputs": [],
   "source": [
    "with torch.no_grad():\n",
    "    image = gen(fixed_noise)"
   ]
  },
  {
   "cell_type": "code",
   "execution_count": null,
   "metadata": {},
   "outputs": [],
   "source": [
    "print(image.shape)"
   ]
  },
  {
   "cell_type": "code",
   "execution_count": null,
   "metadata": {},
   "outputs": [],
   "source": [
    "img = image[30].permute(1, 2, 0)\n",
    "print(img.shape)"
   ]
  },
  {
   "cell_type": "code",
   "execution_count": null,
   "metadata": {},
   "outputs": [],
   "source": [
    "import matplotlib.pyplot as plt\n",
    "import numpy as np\n",
    "\n",
    "img = img.cpu().detach().numpy()\n",
    "# img = img.astype(np.uint8)\n",
    "plt.imshow(img)\n",
    "plt.show()"
   ]
  },
  {
   "cell_type": "code",
   "execution_count": null,
   "metadata": {},
   "outputs": [],
   "source": []
  }
 ],
 "metadata": {
  "kernelspec": {
   "display_name": "gans",
   "language": "python",
   "name": "python3"
  },
  "language_info": {
   "codemirror_mode": {
    "name": "ipython",
    "version": 3
   },
   "file_extension": ".py",
   "mimetype": "text/x-python",
   "name": "python",
   "nbconvert_exporter": "python",
   "pygments_lexer": "ipython3",
   "version": "3.12.2"
  }
 },
 "nbformat": 4,
 "nbformat_minor": 2
}
